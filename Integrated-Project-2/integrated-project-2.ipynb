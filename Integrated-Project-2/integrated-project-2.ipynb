{
 "cells": [
  {
   "cell_type": "markdown",
   "metadata": {},
   "source": [
    "# Integrated Project 2:\n",
    "---"
   ]
  },
  {
   "cell_type": "markdown",
   "metadata": {},
   "source": [
    "- In this task, I am working with Zyfra and their gold ore purification data to:\n",
    "    - Process the data\n",
    "    - Perform an analysis\n",
    "    - Develop and train a model\n",
    "- The Data\n",
    "    - Contains information throughout the purification process of gold ore\n",
    "    - Each row is one full process and each column is a different input, stage, or output of the process\n",
    "- Analysis\n",
    "    - I will be looking at general data distribution, different statistical metrics, changes in metal concentration, input sizes and more during my analysis to better understand the puurification process\n",
    "- Model Training\n",
    "    - The model should predict the amount of gold recovered from gold ore\n",
    "    - The model will help to optimize the production and eliminate unprofitable parameters\n",
    "    - Use sMAPE (symmetric Mean Absolute Percentage Error) metric\n",
    "- Action Plan\n",
    "    - Confirm data quality and accuracy\n",
    "    - Analyze stages in the process\n",
    "    - Build and tune potential models based on sMAPE metric\n",
    "    - Test final model on test dataset"
   ]
  },
  {
   "cell_type": "code",
   "execution_count": 1,
   "metadata": {},
   "outputs": [],
   "source": [
    "# Import Libraries\n",
    "\n",
    "import pandas as pd\n",
    "import numpy as np\n",
    "import matplotlib.pyplot as plt\n",
    "import seaborn as sns\n",
    "from sklearn.model_selection import train_test_split, cross_val_score\n",
    "from sklearn.metrics import mean_squared_error, mean_absolute_error, recall_score, accuracy_score, f1_score, precision_score\n",
    "from sklearn.tree import DecisionTreeRegressor\n",
    "from sklearn.ensemble import RandomForestRegressor\n",
    "from sklearn.linear_model import LogisticRegression\n",
    "from sklearn.metrics import make_scorer"
   ]
  },
  {
   "cell_type": "markdown",
   "metadata": {},
   "source": [
    "## Prepare the Data:\n",
    "---"
   ]
  },
  {
   "cell_type": "code",
   "execution_count": 2,
   "metadata": {},
   "outputs": [
    {
     "name": "stdout",
     "output_type": "stream",
     "text": [
      "(16860, 87)\n",
      "(5856, 53)\n",
      "(22716, 87)\n"
     ]
    }
   ],
   "source": [
    "# Import datasets to pandas\n",
    "\n",
    "# In local Jupyter\n",
    "#train = pd.read_csv('gold_recovery_train.csv')\n",
    "#test = pd.read_csv('gold_recovery_test.csv')\n",
    "#full = pd.read_csv('gold_recovery_full.csv')\n",
    "\n",
    "# In Practicum JupyterHub\n",
    "train = pd.read_csv('/datasets/gold_recovery_train.csv')\n",
    "test = pd.read_csv('/datasets/gold_recovery_test.csv')\n",
    "full = pd.read_csv('/datasets/gold_recovery_full.csv')\n",
    "\n",
    "print(train.shape)\n",
    "print(test.shape)\n",
    "print(full.shape)"
   ]
  },
  {
   "cell_type": "code",
   "execution_count": 3,
   "metadata": {},
   "outputs": [
    {
     "data": {
      "text/plain": [
       "True"
      ]
     },
     "execution_count": 3,
     "metadata": {},
     "output_type": "execute_result"
    }
   ],
   "source": [
    "# Confirm sum of rows in train and test equal full dataset\n",
    "\n",
    "train.shape[0] + test.shape[0] == full.shape[0]"
   ]
  },
  {
   "cell_type": "code",
   "execution_count": 4,
   "metadata": {
    "scrolled": true
   },
   "outputs": [
    {
     "data": {
      "text/html": [
       "<div>\n",
       "<style scoped>\n",
       "    .dataframe tbody tr th:only-of-type {\n",
       "        vertical-align: middle;\n",
       "    }\n",
       "\n",
       "    .dataframe tbody tr th {\n",
       "        vertical-align: top;\n",
       "    }\n",
       "\n",
       "    .dataframe thead th {\n",
       "        text-align: right;\n",
       "    }\n",
       "</style>\n",
       "<table border=\"1\" class=\"dataframe\">\n",
       "  <thead>\n",
       "    <tr style=\"text-align: right;\">\n",
       "      <th></th>\n",
       "      <th>date</th>\n",
       "      <th>final.output.concentrate_ag</th>\n",
       "      <th>final.output.concentrate_pb</th>\n",
       "      <th>final.output.concentrate_sol</th>\n",
       "      <th>final.output.concentrate_au</th>\n",
       "      <th>final.output.recovery</th>\n",
       "      <th>final.output.tail_ag</th>\n",
       "      <th>final.output.tail_pb</th>\n",
       "      <th>final.output.tail_sol</th>\n",
       "      <th>final.output.tail_au</th>\n",
       "      <th>...</th>\n",
       "      <th>secondary_cleaner.state.floatbank4_a_air</th>\n",
       "      <th>secondary_cleaner.state.floatbank4_a_level</th>\n",
       "      <th>secondary_cleaner.state.floatbank4_b_air</th>\n",
       "      <th>secondary_cleaner.state.floatbank4_b_level</th>\n",
       "      <th>secondary_cleaner.state.floatbank5_a_air</th>\n",
       "      <th>secondary_cleaner.state.floatbank5_a_level</th>\n",
       "      <th>secondary_cleaner.state.floatbank5_b_air</th>\n",
       "      <th>secondary_cleaner.state.floatbank5_b_level</th>\n",
       "      <th>secondary_cleaner.state.floatbank6_a_air</th>\n",
       "      <th>secondary_cleaner.state.floatbank6_a_level</th>\n",
       "    </tr>\n",
       "  </thead>\n",
       "  <tbody>\n",
       "    <tr>\n",
       "      <td>0</td>\n",
       "      <td>2016-01-15 00:00:00</td>\n",
       "      <td>6.055403</td>\n",
       "      <td>9.889648</td>\n",
       "      <td>5.507324</td>\n",
       "      <td>42.192020</td>\n",
       "      <td>70.541216</td>\n",
       "      <td>10.411962</td>\n",
       "      <td>0.895447</td>\n",
       "      <td>16.904297</td>\n",
       "      <td>2.143149</td>\n",
       "      <td>...</td>\n",
       "      <td>14.016835</td>\n",
       "      <td>-502.488007</td>\n",
       "      <td>12.099931</td>\n",
       "      <td>-504.715942</td>\n",
       "      <td>9.925633</td>\n",
       "      <td>-498.310211</td>\n",
       "      <td>8.079666</td>\n",
       "      <td>-500.470978</td>\n",
       "      <td>14.151341</td>\n",
       "      <td>-605.841980</td>\n",
       "    </tr>\n",
       "    <tr>\n",
       "      <td>1</td>\n",
       "      <td>2016-01-15 01:00:00</td>\n",
       "      <td>6.029369</td>\n",
       "      <td>9.968944</td>\n",
       "      <td>5.257781</td>\n",
       "      <td>42.701629</td>\n",
       "      <td>69.266198</td>\n",
       "      <td>10.462676</td>\n",
       "      <td>0.927452</td>\n",
       "      <td>16.634514</td>\n",
       "      <td>2.224930</td>\n",
       "      <td>...</td>\n",
       "      <td>13.992281</td>\n",
       "      <td>-505.503262</td>\n",
       "      <td>11.950531</td>\n",
       "      <td>-501.331529</td>\n",
       "      <td>10.039245</td>\n",
       "      <td>-500.169983</td>\n",
       "      <td>7.984757</td>\n",
       "      <td>-500.582168</td>\n",
       "      <td>13.998353</td>\n",
       "      <td>-599.787184</td>\n",
       "    </tr>\n",
       "    <tr>\n",
       "      <td>2</td>\n",
       "      <td>2016-01-15 02:00:00</td>\n",
       "      <td>6.055926</td>\n",
       "      <td>10.213995</td>\n",
       "      <td>5.383759</td>\n",
       "      <td>42.657501</td>\n",
       "      <td>68.116445</td>\n",
       "      <td>10.507046</td>\n",
       "      <td>0.953716</td>\n",
       "      <td>16.208849</td>\n",
       "      <td>2.257889</td>\n",
       "      <td>...</td>\n",
       "      <td>14.015015</td>\n",
       "      <td>-502.520901</td>\n",
       "      <td>11.912783</td>\n",
       "      <td>-501.133383</td>\n",
       "      <td>10.070913</td>\n",
       "      <td>-500.129135</td>\n",
       "      <td>8.013877</td>\n",
       "      <td>-500.517572</td>\n",
       "      <td>14.028663</td>\n",
       "      <td>-601.427363</td>\n",
       "    </tr>\n",
       "  </tbody>\n",
       "</table>\n",
       "<p>3 rows × 87 columns</p>\n",
       "</div>"
      ],
      "text/plain": [
       "                  date  final.output.concentrate_ag  \\\n",
       "0  2016-01-15 00:00:00                     6.055403   \n",
       "1  2016-01-15 01:00:00                     6.029369   \n",
       "2  2016-01-15 02:00:00                     6.055926   \n",
       "\n",
       "   final.output.concentrate_pb  final.output.concentrate_sol  \\\n",
       "0                     9.889648                      5.507324   \n",
       "1                     9.968944                      5.257781   \n",
       "2                    10.213995                      5.383759   \n",
       "\n",
       "   final.output.concentrate_au  final.output.recovery  final.output.tail_ag  \\\n",
       "0                    42.192020              70.541216             10.411962   \n",
       "1                    42.701629              69.266198             10.462676   \n",
       "2                    42.657501              68.116445             10.507046   \n",
       "\n",
       "   final.output.tail_pb  final.output.tail_sol  final.output.tail_au  ...  \\\n",
       "0              0.895447              16.904297              2.143149  ...   \n",
       "1              0.927452              16.634514              2.224930  ...   \n",
       "2              0.953716              16.208849              2.257889  ...   \n",
       "\n",
       "   secondary_cleaner.state.floatbank4_a_air  \\\n",
       "0                                 14.016835   \n",
       "1                                 13.992281   \n",
       "2                                 14.015015   \n",
       "\n",
       "   secondary_cleaner.state.floatbank4_a_level  \\\n",
       "0                                 -502.488007   \n",
       "1                                 -505.503262   \n",
       "2                                 -502.520901   \n",
       "\n",
       "   secondary_cleaner.state.floatbank4_b_air  \\\n",
       "0                                 12.099931   \n",
       "1                                 11.950531   \n",
       "2                                 11.912783   \n",
       "\n",
       "   secondary_cleaner.state.floatbank4_b_level  \\\n",
       "0                                 -504.715942   \n",
       "1                                 -501.331529   \n",
       "2                                 -501.133383   \n",
       "\n",
       "   secondary_cleaner.state.floatbank5_a_air  \\\n",
       "0                                  9.925633   \n",
       "1                                 10.039245   \n",
       "2                                 10.070913   \n",
       "\n",
       "   secondary_cleaner.state.floatbank5_a_level  \\\n",
       "0                                 -498.310211   \n",
       "1                                 -500.169983   \n",
       "2                                 -500.129135   \n",
       "\n",
       "   secondary_cleaner.state.floatbank5_b_air  \\\n",
       "0                                  8.079666   \n",
       "1                                  7.984757   \n",
       "2                                  8.013877   \n",
       "\n",
       "   secondary_cleaner.state.floatbank5_b_level  \\\n",
       "0                                 -500.470978   \n",
       "1                                 -500.582168   \n",
       "2                                 -500.517572   \n",
       "\n",
       "   secondary_cleaner.state.floatbank6_a_air  \\\n",
       "0                                 14.151341   \n",
       "1                                 13.998353   \n",
       "2                                 14.028663   \n",
       "\n",
       "   secondary_cleaner.state.floatbank6_a_level  \n",
       "0                                 -605.841980  \n",
       "1                                 -599.787184  \n",
       "2                                 -601.427363  \n",
       "\n",
       "[3 rows x 87 columns]"
      ]
     },
     "metadata": {},
     "output_type": "display_data"
    }
   ],
   "source": [
    "display(train.head(3))"
   ]
  },
  {
   "cell_type": "markdown",
   "metadata": {},
   "source": [
    "**Looking at columns with the most and fewest null values:**"
   ]
  },
  {
   "cell_type": "code",
   "execution_count": 5,
   "metadata": {},
   "outputs": [
    {
     "data": {
      "text/html": [
       "<div>\n",
       "<style scoped>\n",
       "    .dataframe tbody tr th:only-of-type {\n",
       "        vertical-align: middle;\n",
       "    }\n",
       "\n",
       "    .dataframe tbody tr th {\n",
       "        vertical-align: top;\n",
       "    }\n",
       "\n",
       "    .dataframe thead th {\n",
       "        text-align: right;\n",
       "    }\n",
       "</style>\n",
       "<table border=\"1\" class=\"dataframe\">\n",
       "  <thead>\n",
       "    <tr style=\"text-align: right;\">\n",
       "      <th></th>\n",
       "      <th>0</th>\n",
       "    </tr>\n",
       "  </thead>\n",
       "  <tbody>\n",
       "    <tr>\n",
       "      <td>secondary_cleaner.output.tail_sol</td>\n",
       "      <td>1986</td>\n",
       "    </tr>\n",
       "    <tr>\n",
       "      <td>rougher.output.tail_au</td>\n",
       "      <td>2249</td>\n",
       "    </tr>\n",
       "    <tr>\n",
       "      <td>rougher.output.tail_sol</td>\n",
       "      <td>2249</td>\n",
       "    </tr>\n",
       "    <tr>\n",
       "      <td>rougher.output.tail_ag</td>\n",
       "      <td>2250</td>\n",
       "    </tr>\n",
       "    <tr>\n",
       "      <td>rougher.output.recovery</td>\n",
       "      <td>2573</td>\n",
       "    </tr>\n",
       "  </tbody>\n",
       "</table>\n",
       "</div>"
      ],
      "text/plain": [
       "                                      0\n",
       "secondary_cleaner.output.tail_sol  1986\n",
       "rougher.output.tail_au             2249\n",
       "rougher.output.tail_sol            2249\n",
       "rougher.output.tail_ag             2250\n",
       "rougher.output.recovery            2573"
      ]
     },
     "metadata": {},
     "output_type": "display_data"
    },
    {
     "data": {
      "text/html": [
       "<div>\n",
       "<style scoped>\n",
       "    .dataframe tbody tr th:only-of-type {\n",
       "        vertical-align: middle;\n",
       "    }\n",
       "\n",
       "    .dataframe tbody tr th {\n",
       "        vertical-align: top;\n",
       "    }\n",
       "\n",
       "    .dataframe thead th {\n",
       "        text-align: right;\n",
       "    }\n",
       "</style>\n",
       "<table border=\"1\" class=\"dataframe\">\n",
       "  <thead>\n",
       "    <tr style=\"text-align: right;\">\n",
       "      <th></th>\n",
       "      <th>0</th>\n",
       "    </tr>\n",
       "  </thead>\n",
       "  <tbody>\n",
       "    <tr>\n",
       "      <td>date</td>\n",
       "      <td>0</td>\n",
       "    </tr>\n",
       "    <tr>\n",
       "      <td>primary_cleaner.input.feed_size</td>\n",
       "      <td>0</td>\n",
       "    </tr>\n",
       "    <tr>\n",
       "      <td>rougher.calculation.floatbank11_sulfate_to_au_feed</td>\n",
       "      <td>27</td>\n",
       "    </tr>\n",
       "    <tr>\n",
       "      <td>rougher.calculation.floatbank10_sulfate_to_au_feed</td>\n",
       "      <td>27</td>\n",
       "    </tr>\n",
       "    <tr>\n",
       "      <td>rougher.calculation.sulfate_to_au_concentrate</td>\n",
       "      <td>27</td>\n",
       "    </tr>\n",
       "  </tbody>\n",
       "</table>\n",
       "</div>"
      ],
      "text/plain": [
       "                                                     0\n",
       "date                                                 0\n",
       "primary_cleaner.input.feed_size                      0\n",
       "rougher.calculation.floatbank11_sulfate_to_au_feed  27\n",
       "rougher.calculation.floatbank10_sulfate_to_au_feed  27\n",
       "rougher.calculation.sulfate_to_au_concentrate       27"
      ]
     },
     "metadata": {},
     "output_type": "display_data"
    }
   ],
   "source": [
    "train_nulls = pd.DataFrame(train.isna().sum()).sort_values(0)\n",
    "display(train_nulls.tail(5))\n",
    "display(train_nulls.head(5))"
   ]
  },
  {
   "cell_type": "code",
   "execution_count": 6,
   "metadata": {},
   "outputs": [],
   "source": [
    "train1 = train.copy()\n",
    "train = train.fillna(method='ffill')"
   ]
  },
  {
   "cell_type": "code",
   "execution_count": 7,
   "metadata": {
    "scrolled": true
   },
   "outputs": [
    {
     "data": {
      "text/html": [
       "<div>\n",
       "<style scoped>\n",
       "    .dataframe tbody tr th:only-of-type {\n",
       "        vertical-align: middle;\n",
       "    }\n",
       "\n",
       "    .dataframe tbody tr th {\n",
       "        vertical-align: top;\n",
       "    }\n",
       "\n",
       "    .dataframe thead th {\n",
       "        text-align: right;\n",
       "    }\n",
       "</style>\n",
       "<table border=\"1\" class=\"dataframe\">\n",
       "  <thead>\n",
       "    <tr style=\"text-align: right;\">\n",
       "      <th></th>\n",
       "      <th>date</th>\n",
       "      <th>primary_cleaner.input.sulfate</th>\n",
       "      <th>primary_cleaner.input.depressant</th>\n",
       "      <th>primary_cleaner.input.feed_size</th>\n",
       "      <th>primary_cleaner.input.xanthate</th>\n",
       "      <th>primary_cleaner.state.floatbank8_a_air</th>\n",
       "      <th>primary_cleaner.state.floatbank8_a_level</th>\n",
       "      <th>primary_cleaner.state.floatbank8_b_air</th>\n",
       "      <th>primary_cleaner.state.floatbank8_b_level</th>\n",
       "      <th>primary_cleaner.state.floatbank8_c_air</th>\n",
       "      <th>...</th>\n",
       "      <th>secondary_cleaner.state.floatbank4_a_air</th>\n",
       "      <th>secondary_cleaner.state.floatbank4_a_level</th>\n",
       "      <th>secondary_cleaner.state.floatbank4_b_air</th>\n",
       "      <th>secondary_cleaner.state.floatbank4_b_level</th>\n",
       "      <th>secondary_cleaner.state.floatbank5_a_air</th>\n",
       "      <th>secondary_cleaner.state.floatbank5_a_level</th>\n",
       "      <th>secondary_cleaner.state.floatbank5_b_air</th>\n",
       "      <th>secondary_cleaner.state.floatbank5_b_level</th>\n",
       "      <th>secondary_cleaner.state.floatbank6_a_air</th>\n",
       "      <th>secondary_cleaner.state.floatbank6_a_level</th>\n",
       "    </tr>\n",
       "  </thead>\n",
       "  <tbody>\n",
       "    <tr>\n",
       "      <td>0</td>\n",
       "      <td>2016-09-01 00:59:59</td>\n",
       "      <td>210.800909</td>\n",
       "      <td>14.993118</td>\n",
       "      <td>8.080000</td>\n",
       "      <td>1.005021</td>\n",
       "      <td>1398.981301</td>\n",
       "      <td>-500.225577</td>\n",
       "      <td>1399.144926</td>\n",
       "      <td>-499.919735</td>\n",
       "      <td>1400.102998</td>\n",
       "      <td>...</td>\n",
       "      <td>12.023554</td>\n",
       "      <td>-497.795834</td>\n",
       "      <td>8.016656</td>\n",
       "      <td>-501.289139</td>\n",
       "      <td>7.946562</td>\n",
       "      <td>-432.317850</td>\n",
       "      <td>4.872511</td>\n",
       "      <td>-500.037437</td>\n",
       "      <td>26.705889</td>\n",
       "      <td>-499.709414</td>\n",
       "    </tr>\n",
       "    <tr>\n",
       "      <td>1</td>\n",
       "      <td>2016-09-01 01:59:59</td>\n",
       "      <td>215.392455</td>\n",
       "      <td>14.987471</td>\n",
       "      <td>8.080000</td>\n",
       "      <td>0.990469</td>\n",
       "      <td>1398.777912</td>\n",
       "      <td>-500.057435</td>\n",
       "      <td>1398.055362</td>\n",
       "      <td>-499.778182</td>\n",
       "      <td>1396.151033</td>\n",
       "      <td>...</td>\n",
       "      <td>12.058140</td>\n",
       "      <td>-498.695773</td>\n",
       "      <td>8.130979</td>\n",
       "      <td>-499.634209</td>\n",
       "      <td>7.958270</td>\n",
       "      <td>-525.839648</td>\n",
       "      <td>4.878850</td>\n",
       "      <td>-500.162375</td>\n",
       "      <td>25.019940</td>\n",
       "      <td>-499.819438</td>\n",
       "    </tr>\n",
       "    <tr>\n",
       "      <td>2</td>\n",
       "      <td>2016-09-01 02:59:59</td>\n",
       "      <td>215.259946</td>\n",
       "      <td>12.884934</td>\n",
       "      <td>7.786667</td>\n",
       "      <td>0.996043</td>\n",
       "      <td>1398.493666</td>\n",
       "      <td>-500.868360</td>\n",
       "      <td>1398.860436</td>\n",
       "      <td>-499.764529</td>\n",
       "      <td>1398.075709</td>\n",
       "      <td>...</td>\n",
       "      <td>11.962366</td>\n",
       "      <td>-498.767484</td>\n",
       "      <td>8.096893</td>\n",
       "      <td>-500.827423</td>\n",
       "      <td>8.071056</td>\n",
       "      <td>-500.801673</td>\n",
       "      <td>4.905125</td>\n",
       "      <td>-499.828510</td>\n",
       "      <td>24.994862</td>\n",
       "      <td>-500.622559</td>\n",
       "    </tr>\n",
       "  </tbody>\n",
       "</table>\n",
       "<p>3 rows × 53 columns</p>\n",
       "</div>"
      ],
      "text/plain": [
       "                  date  primary_cleaner.input.sulfate  \\\n",
       "0  2016-09-01 00:59:59                     210.800909   \n",
       "1  2016-09-01 01:59:59                     215.392455   \n",
       "2  2016-09-01 02:59:59                     215.259946   \n",
       "\n",
       "   primary_cleaner.input.depressant  primary_cleaner.input.feed_size  \\\n",
       "0                         14.993118                         8.080000   \n",
       "1                         14.987471                         8.080000   \n",
       "2                         12.884934                         7.786667   \n",
       "\n",
       "   primary_cleaner.input.xanthate  primary_cleaner.state.floatbank8_a_air  \\\n",
       "0                        1.005021                             1398.981301   \n",
       "1                        0.990469                             1398.777912   \n",
       "2                        0.996043                             1398.493666   \n",
       "\n",
       "   primary_cleaner.state.floatbank8_a_level  \\\n",
       "0                               -500.225577   \n",
       "1                               -500.057435   \n",
       "2                               -500.868360   \n",
       "\n",
       "   primary_cleaner.state.floatbank8_b_air  \\\n",
       "0                             1399.144926   \n",
       "1                             1398.055362   \n",
       "2                             1398.860436   \n",
       "\n",
       "   primary_cleaner.state.floatbank8_b_level  \\\n",
       "0                               -499.919735   \n",
       "1                               -499.778182   \n",
       "2                               -499.764529   \n",
       "\n",
       "   primary_cleaner.state.floatbank8_c_air  ...  \\\n",
       "0                             1400.102998  ...   \n",
       "1                             1396.151033  ...   \n",
       "2                             1398.075709  ...   \n",
       "\n",
       "   secondary_cleaner.state.floatbank4_a_air  \\\n",
       "0                                 12.023554   \n",
       "1                                 12.058140   \n",
       "2                                 11.962366   \n",
       "\n",
       "   secondary_cleaner.state.floatbank4_a_level  \\\n",
       "0                                 -497.795834   \n",
       "1                                 -498.695773   \n",
       "2                                 -498.767484   \n",
       "\n",
       "   secondary_cleaner.state.floatbank4_b_air  \\\n",
       "0                                  8.016656   \n",
       "1                                  8.130979   \n",
       "2                                  8.096893   \n",
       "\n",
       "   secondary_cleaner.state.floatbank4_b_level  \\\n",
       "0                                 -501.289139   \n",
       "1                                 -499.634209   \n",
       "2                                 -500.827423   \n",
       "\n",
       "   secondary_cleaner.state.floatbank5_a_air  \\\n",
       "0                                  7.946562   \n",
       "1                                  7.958270   \n",
       "2                                  8.071056   \n",
       "\n",
       "   secondary_cleaner.state.floatbank5_a_level  \\\n",
       "0                                 -432.317850   \n",
       "1                                 -525.839648   \n",
       "2                                 -500.801673   \n",
       "\n",
       "   secondary_cleaner.state.floatbank5_b_air  \\\n",
       "0                                  4.872511   \n",
       "1                                  4.878850   \n",
       "2                                  4.905125   \n",
       "\n",
       "   secondary_cleaner.state.floatbank5_b_level  \\\n",
       "0                                 -500.037437   \n",
       "1                                 -500.162375   \n",
       "2                                 -499.828510   \n",
       "\n",
       "   secondary_cleaner.state.floatbank6_a_air  \\\n",
       "0                                 26.705889   \n",
       "1                                 25.019940   \n",
       "2                                 24.994862   \n",
       "\n",
       "   secondary_cleaner.state.floatbank6_a_level  \n",
       "0                                 -499.709414  \n",
       "1                                 -499.819438  \n",
       "2                                 -500.622559  \n",
       "\n",
       "[3 rows x 53 columns]"
      ]
     },
     "metadata": {},
     "output_type": "display_data"
    }
   ],
   "source": [
    "display(test.head(3))"
   ]
  },
  {
   "cell_type": "code",
   "execution_count": 8,
   "metadata": {
    "scrolled": true
   },
   "outputs": [
    {
     "data": {
      "text/plain": [
       "date                                            0\n",
       "primary_cleaner.input.feed_size                 0\n",
       "rougher.state.floatbank10_c_level              16\n",
       "rougher.state.floatbank10_d_level              16\n",
       "rougher.state.floatbank10_e_level              16\n",
       "rougher.state.floatbank10_f_level              16\n",
       "secondary_cleaner.state.floatbank2_a_level     16\n",
       "secondary_cleaner.state.floatbank2_b_level     16\n",
       "secondary_cleaner.state.floatbank3_a_level     16\n",
       "secondary_cleaner.state.floatbank3_b_air       16\n",
       "secondary_cleaner.state.floatbank3_b_level     16\n",
       "secondary_cleaner.state.floatbank4_a_air       16\n",
       "secondary_cleaner.state.floatbank4_a_level     16\n",
       "secondary_cleaner.state.floatbank4_b_air       16\n",
       "secondary_cleaner.state.floatbank4_b_level     16\n",
       "secondary_cleaner.state.floatbank5_a_air       16\n",
       "secondary_cleaner.state.floatbank5_a_level     16\n",
       "secondary_cleaner.state.floatbank5_b_air       16\n",
       "secondary_cleaner.state.floatbank5_b_level     16\n",
       "secondary_cleaner.state.floatbank6_a_air       16\n",
       "rougher.state.floatbank10_a_level              16\n",
       "rougher.state.floatbank10_b_level              16\n",
       "secondary_cleaner.state.floatbank6_a_level     16\n",
       "primary_cleaner.state.floatbank8_c_level       16\n",
       "rougher.input.feed_ag                          16\n",
       "primary_cleaner.state.floatbank8_c_air         16\n",
       "rougher.input.feed_pb                          16\n",
       "primary_cleaner.state.floatbank8_b_level       16\n",
       "primary_cleaner.state.floatbank8_d_level       16\n",
       "primary_cleaner.state.floatbank8_b_air         16\n",
       "primary_cleaner.state.floatbank8_d_air         16\n",
       "rougher.input.feed_au                          16\n",
       "primary_cleaner.state.floatbank8_a_level       16\n",
       "primary_cleaner.state.floatbank8_a_air         16\n",
       "rougher.state.floatbank10_f_air                17\n",
       "rougher.state.floatbank10_c_air                17\n",
       "rougher.state.floatbank10_b_air                17\n",
       "rougher.state.floatbank10_a_air                17\n",
       "rougher.state.floatbank10_d_air                17\n",
       "rougher.state.floatbank10_e_air                17\n",
       "secondary_cleaner.state.floatbank2_a_air       20\n",
       "rougher.input.feed_size                        22\n",
       "secondary_cleaner.state.floatbank2_b_air       23\n",
       "secondary_cleaner.state.floatbank3_a_air       34\n",
       "rougher.input.feed_rate                        40\n",
       "rougher.input.floatbank11_sulfate              55\n",
       "rougher.input.feed_sol                         67\n",
       "rougher.input.floatbank10_xanthate            123\n",
       "primary_cleaner.input.xanthate                166\n",
       "rougher.input.floatbank10_sulfate             257\n",
       "primary_cleaner.input.depressant              284\n",
       "primary_cleaner.input.sulfate                 302\n",
       "rougher.input.floatbank11_xanthate            353\n",
       "dtype: int64"
      ]
     },
     "execution_count": 8,
     "metadata": {},
     "output_type": "execute_result"
    }
   ],
   "source": [
    "test.isna().sum().sort_values()"
   ]
  },
  {
   "cell_type": "code",
   "execution_count": 9,
   "metadata": {},
   "outputs": [],
   "source": [
    "test = test.fillna(method='ffill')"
   ]
  },
  {
   "cell_type": "markdown",
   "metadata": {},
   "source": [
    "- In both the train and test datasets, I filled the Null values using the forward fill method.\n",
    "- This can be helpful for future calculations and analysis.\n",
    "    - For example, if the value for Gold concentration is Null then we can take the prior result for that column in the time series and fill it in the Null position"
   ]
  },
  {
   "cell_type": "markdown",
   "metadata": {},
   "source": [
    "#### Check recovery calculation for `rougher.output.recovery` using MAE:"
   ]
  },
  {
   "cell_type": "code",
   "execution_count": 10,
   "metadata": {},
   "outputs": [
    {
     "data": {
      "text/html": [
       "<div>\n",
       "<style scoped>\n",
       "    .dataframe tbody tr th:only-of-type {\n",
       "        vertical-align: middle;\n",
       "    }\n",
       "\n",
       "    .dataframe tbody tr th {\n",
       "        vertical-align: top;\n",
       "    }\n",
       "\n",
       "    .dataframe thead th {\n",
       "        text-align: right;\n",
       "    }\n",
       "</style>\n",
       "<table border=\"1\" class=\"dataframe\">\n",
       "  <thead>\n",
       "    <tr style=\"text-align: right;\">\n",
       "      <th></th>\n",
       "      <th>C</th>\n",
       "      <th>F</th>\n",
       "      <th>T</th>\n",
       "      <th>rougher.output.recovery</th>\n",
       "      <th>calc_recov</th>\n",
       "      <th>diff</th>\n",
       "    </tr>\n",
       "  </thead>\n",
       "  <tbody>\n",
       "    <tr>\n",
       "      <td>0</td>\n",
       "      <td>19.793808</td>\n",
       "      <td>6.486150</td>\n",
       "      <td>1.170244</td>\n",
       "      <td>87.107763</td>\n",
       "      <td>87.107763</td>\n",
       "      <td>0.000000e+00</td>\n",
       "    </tr>\n",
       "    <tr>\n",
       "      <td>1</td>\n",
       "      <td>20.050975</td>\n",
       "      <td>6.478583</td>\n",
       "      <td>1.184827</td>\n",
       "      <td>86.843261</td>\n",
       "      <td>86.843261</td>\n",
       "      <td>1.421085e-14</td>\n",
       "    </tr>\n",
       "    <tr>\n",
       "      <td>2</td>\n",
       "      <td>19.737170</td>\n",
       "      <td>6.362222</td>\n",
       "      <td>1.162562</td>\n",
       "      <td>86.842308</td>\n",
       "      <td>86.842308</td>\n",
       "      <td>0.000000e+00</td>\n",
       "    </tr>\n",
       "    <tr>\n",
       "      <td>3</td>\n",
       "      <td>19.320810</td>\n",
       "      <td>6.118189</td>\n",
       "      <td>1.079755</td>\n",
       "      <td>87.226430</td>\n",
       "      <td>87.226430</td>\n",
       "      <td>0.000000e+00</td>\n",
       "    </tr>\n",
       "    <tr>\n",
       "      <td>4</td>\n",
       "      <td>19.216101</td>\n",
       "      <td>5.663707</td>\n",
       "      <td>1.012642</td>\n",
       "      <td>86.688794</td>\n",
       "      <td>86.688794</td>\n",
       "      <td>0.000000e+00</td>\n",
       "    </tr>\n",
       "  </tbody>\n",
       "</table>\n",
       "</div>"
      ],
      "text/plain": [
       "           C         F         T  rougher.output.recovery  calc_recov  \\\n",
       "0  19.793808  6.486150  1.170244                87.107763   87.107763   \n",
       "1  20.050975  6.478583  1.184827                86.843261   86.843261   \n",
       "2  19.737170  6.362222  1.162562                86.842308   86.842308   \n",
       "3  19.320810  6.118189  1.079755                87.226430   87.226430   \n",
       "4  19.216101  5.663707  1.012642                86.688794   86.688794   \n",
       "\n",
       "           diff  \n",
       "0  0.000000e+00  \n",
       "1  1.421085e-14  \n",
       "2  0.000000e+00  \n",
       "3  0.000000e+00  \n",
       "4  0.000000e+00  "
      ]
     },
     "execution_count": 10,
     "metadata": {},
     "output_type": "execute_result"
    }
   ],
   "source": [
    "recover_check = train1.copy()\n",
    "recover_check = recover_check[['rougher.output.concentrate_au', 'rougher.input.feed_au',\n",
    "                               'rougher.output.tail_au', 'rougher.output.recovery']]\n",
    "recover_check.columns = ['C', 'F', 'T', 'rougher.output.recovery']\n",
    "\n",
    "# Filtering out rows where input values = 0 which causes the calculation to = inf\n",
    "recover_check = recover_check[(recover_check['C'] != 0) & (recover_check['F'] != 0) & (recover_check['T'] != 0)]\n",
    "recover_check = recover_check.dropna()\n",
    "\n",
    "# Calculated rougher.output.recovery\n",
    "recover_check['calc_recov'] = ((recover_check['C'] * (recover_check['F'] - recover_check['T']))\n",
    "                / (recover_check['F'] * (recover_check['C'] - recover_check['T']))) * 100\n",
    "\n",
    "recover_check['diff'] = abs(recover_check['calc_recov'] - recover_check['rougher.output.recovery'])\n",
    "\n",
    "recover_check.head()"
   ]
  },
  {
   "cell_type": "code",
   "execution_count": 11,
   "metadata": {},
   "outputs": [
    {
     "data": {
      "text/html": [
       "<div>\n",
       "<style scoped>\n",
       "    .dataframe tbody tr th:only-of-type {\n",
       "        vertical-align: middle;\n",
       "    }\n",
       "\n",
       "    .dataframe tbody tr th {\n",
       "        vertical-align: top;\n",
       "    }\n",
       "\n",
       "    .dataframe thead th {\n",
       "        text-align: right;\n",
       "    }\n",
       "</style>\n",
       "<table border=\"1\" class=\"dataframe\">\n",
       "  <thead>\n",
       "    <tr style=\"text-align: right;\">\n",
       "      <th></th>\n",
       "      <th>C</th>\n",
       "      <th>F</th>\n",
       "      <th>T</th>\n",
       "      <th>rougher.output.recovery</th>\n",
       "      <th>calc_recov</th>\n",
       "      <th>diff</th>\n",
       "    </tr>\n",
       "  </thead>\n",
       "  <tbody>\n",
       "  </tbody>\n",
       "</table>\n",
       "</div>"
      ],
      "text/plain": [
       "Empty DataFrame\n",
       "Columns: [C, F, T, rougher.output.recovery, calc_recov, diff]\n",
       "Index: []"
      ]
     },
     "execution_count": 11,
     "metadata": {},
     "output_type": "execute_result"
    }
   ],
   "source": [
    "# Looking for absolute errors ('diff') greater than 1\n",
    "recover_check[recover_check['diff'] > 1]"
   ]
  },
  {
   "cell_type": "code",
   "execution_count": 12,
   "metadata": {},
   "outputs": [
    {
     "name": "stdout",
     "output_type": "stream",
     "text": [
      "0\n",
      "0\n",
      "0\n"
     ]
    }
   ],
   "source": [
    "# Confirming there are no zeros, infs, Null values in the inputs\n",
    "print(len(recover_check[(recover_check['C'] == 0) | (recover_check['F'] == 0) | (recover_check['T'] == 0)]))\n",
    "print(len(recover_check[(recover_check['C'] == np.nan) | (recover_check['F'] == np.nan) | (recover_check['T'] == np.nan)]))\n",
    "print(len(recover_check[(recover_check['C'] == np.inf) | (recover_check['F'] == np.inf) | (recover_check['T'] == np.inf)]))\n",
    "\n"
   ]
  },
  {
   "cell_type": "code",
   "execution_count": 13,
   "metadata": {},
   "outputs": [
    {
     "name": "stdout",
     "output_type": "stream",
     "text": [
      "MAE on rougher.output.recovery: 9.661285240080234e-15\n"
     ]
    }
   ],
   "source": [
    "print('MAE on rougher.output.recovery:', mean_absolute_error(\n",
    "    recover_check['calc_recov'],\n",
    "    recover_check['rougher.output.recovery']))\n"
   ]
  },
  {
   "cell_type": "markdown",
   "metadata": {},
   "source": [
    "- Based on my Recovery Calculation:\n",
    "    - No calculation already in the data is off by a significant amount.\n",
    "    - The MAE found was 9.66e-15 (or ~0.00000000000000966)\n",
    "    - This confirms quality in the rougher.output.recovery calculation in the training data"
   ]
  },
  {
   "cell_type": "markdown",
   "metadata": {},
   "source": [
    "#### Features unavailable in the test set:"
   ]
  },
  {
   "cell_type": "code",
   "execution_count": 14,
   "metadata": {},
   "outputs": [
    {
     "name": "stdout",
     "output_type": "stream",
     "text": [
      "Index(['final.output.concentrate_ag', 'final.output.concentrate_pb',\n",
      "       'final.output.concentrate_sol', 'final.output.concentrate_au',\n",
      "       'final.output.recovery', 'final.output.tail_ag', 'final.output.tail_pb',\n",
      "       'final.output.tail_sol', 'final.output.tail_au',\n",
      "       'primary_cleaner.output.concentrate_ag',\n",
      "       'primary_cleaner.output.concentrate_pb',\n",
      "       'primary_cleaner.output.concentrate_sol',\n",
      "       'primary_cleaner.output.concentrate_au',\n",
      "       'primary_cleaner.output.tail_ag', 'primary_cleaner.output.tail_pb',\n",
      "       'primary_cleaner.output.tail_sol', 'primary_cleaner.output.tail_au',\n",
      "       'rougher.calculation.sulfate_to_au_concentrate',\n",
      "       'rougher.calculation.floatbank10_sulfate_to_au_feed',\n",
      "       'rougher.calculation.floatbank11_sulfate_to_au_feed',\n",
      "       'rougher.calculation.au_pb_ratio', 'rougher.output.concentrate_ag',\n",
      "       'rougher.output.concentrate_pb', 'rougher.output.concentrate_sol',\n",
      "       'rougher.output.concentrate_au', 'rougher.output.recovery',\n",
      "       'rougher.output.tail_ag', 'rougher.output.tail_pb',\n",
      "       'rougher.output.tail_sol', 'rougher.output.tail_au',\n",
      "       'secondary_cleaner.output.tail_ag', 'secondary_cleaner.output.tail_pb',\n",
      "       'secondary_cleaner.output.tail_sol',\n",
      "       'secondary_cleaner.output.tail_au'],\n",
      "      dtype='object')\n",
      "34\n"
     ]
    }
   ],
   "source": [
    "# Comparing training columns to test columns to see where they do not match\n",
    "\n",
    "not_in_test = train.columns[~train.columns.isin(test.columns)]\n",
    "print(not_in_test)\n",
    "print(len(not_in_test))"
   ]
  },
  {
   "cell_type": "markdown",
   "metadata": {},
   "source": [
    "- Differences in train and test set features:\n",
    "    - The missing features (or columns) in the test set are all of the ones with the parmeter type: \"output\" or \"calculation\"\n",
    "    - Using \"output\" or \"calculation\" features would overfit our model because it \"outputs\" are direct inputs into calculations that derive the final calculation values"
   ]
  },
  {
   "cell_type": "code",
   "execution_count": 15,
   "metadata": {},
   "outputs": [],
   "source": [
    "# Need to make the training data the same as the test data that I want the model to predict\n",
    "\n",
    "not_in_test = not_in_test.drop(['final.output.recovery', 'rougher.output.recovery'])\n",
    "mtrain = train.drop(not_in_test, axis=1)"
   ]
  },
  {
   "cell_type": "markdown",
   "metadata": {},
   "source": [
    "## Analyze the Data:\n",
    "---"
   ]
  },
  {
   "cell_type": "markdown",
   "metadata": {},
   "source": [
    "#### Metal Concentrations (Au, Ag, Pb) based on purification stages:"
   ]
  },
  {
   "cell_type": "code",
   "execution_count": 16,
   "metadata": {},
   "outputs": [],
   "source": [
    "au_concentrate = train[['rougher.input.feed_au',\n",
    "                        'rougher.output.concentrate_au',\n",
    "                        'primary_cleaner.output.concentrate_au', \n",
    "                        'final.output.concentrate_au']]\n",
    "ag_concentrate = train[['rougher.input.feed_ag',\n",
    "                        'rougher.output.concentrate_ag',\n",
    "                        'primary_cleaner.output.concentrate_ag',\n",
    "                        'final.output.concentrate_ag']]\n",
    "pb_concentrate = train[['rougher.input.feed_pb',\n",
    "                        'rougher.output.concentrate_pb',\n",
    "                        'primary_cleaner.output.concentrate_pb',\n",
    "                        'final.output.concentrate_pb']]"
   ]
  },
  {
   "cell_type": "code",
   "execution_count": 17,
   "metadata": {},
   "outputs": [
    {
     "data": {
      "text/html": [
       "<div>\n",
       "<style scoped>\n",
       "    .dataframe tbody tr th:only-of-type {\n",
       "        vertical-align: middle;\n",
       "    }\n",
       "\n",
       "    .dataframe tbody tr th {\n",
       "        vertical-align: top;\n",
       "    }\n",
       "\n",
       "    .dataframe thead th {\n",
       "        text-align: right;\n",
       "    }\n",
       "</style>\n",
       "<table border=\"1\" class=\"dataframe\">\n",
       "  <thead>\n",
       "    <tr style=\"text-align: right;\">\n",
       "      <th></th>\n",
       "      <th>val1</th>\n",
       "      <th>au</th>\n",
       "    </tr>\n",
       "  </thead>\n",
       "  <tbody>\n",
       "    <tr>\n",
       "      <td>0</td>\n",
       "      <td>rougher.input.feed_au</td>\n",
       "      <td>7.144279</td>\n",
       "    </tr>\n",
       "    <tr>\n",
       "      <td>1</td>\n",
       "      <td>rougher.output.concentrate_au</td>\n",
       "      <td>17.337662</td>\n",
       "    </tr>\n",
       "    <tr>\n",
       "      <td>2</td>\n",
       "      <td>primary_cleaner.output.concentrate_au</td>\n",
       "      <td>29.041786</td>\n",
       "    </tr>\n",
       "    <tr>\n",
       "      <td>3</td>\n",
       "      <td>final.output.concentrate_au</td>\n",
       "      <td>39.321631</td>\n",
       "    </tr>\n",
       "  </tbody>\n",
       "</table>\n",
       "</div>"
      ],
      "text/plain": [
       "                                    val1         au\n",
       "0                  rougher.input.feed_au   7.144279\n",
       "1          rougher.output.concentrate_au  17.337662\n",
       "2  primary_cleaner.output.concentrate_au  29.041786\n",
       "3            final.output.concentrate_au  39.321631"
      ]
     },
     "metadata": {},
     "output_type": "display_data"
    },
    {
     "data": {
      "text/html": [
       "<div>\n",
       "<style scoped>\n",
       "    .dataframe tbody tr th:only-of-type {\n",
       "        vertical-align: middle;\n",
       "    }\n",
       "\n",
       "    .dataframe tbody tr th {\n",
       "        vertical-align: top;\n",
       "    }\n",
       "\n",
       "    .dataframe thead th {\n",
       "        text-align: right;\n",
       "    }\n",
       "</style>\n",
       "<table border=\"1\" class=\"dataframe\">\n",
       "  <thead>\n",
       "    <tr style=\"text-align: right;\">\n",
       "      <th></th>\n",
       "      <th>val2</th>\n",
       "      <th>ag</th>\n",
       "    </tr>\n",
       "  </thead>\n",
       "  <tbody>\n",
       "    <tr>\n",
       "      <td>0</td>\n",
       "      <td>rougher.input.feed_ag</td>\n",
       "      <td>7.803825</td>\n",
       "    </tr>\n",
       "    <tr>\n",
       "      <td>1</td>\n",
       "      <td>rougher.output.concentrate_ag</td>\n",
       "      <td>10.541930</td>\n",
       "    </tr>\n",
       "    <tr>\n",
       "      <td>2</td>\n",
       "      <td>primary_cleaner.output.concentrate_ag</td>\n",
       "      <td>7.390585</td>\n",
       "    </tr>\n",
       "    <tr>\n",
       "      <td>3</td>\n",
       "      <td>final.output.concentrate_ag</td>\n",
       "      <td>4.699066</td>\n",
       "    </tr>\n",
       "  </tbody>\n",
       "</table>\n",
       "</div>"
      ],
      "text/plain": [
       "                                    val2         ag\n",
       "0                  rougher.input.feed_ag   7.803825\n",
       "1          rougher.output.concentrate_ag  10.541930\n",
       "2  primary_cleaner.output.concentrate_ag   7.390585\n",
       "3            final.output.concentrate_ag   4.699066"
      ]
     },
     "metadata": {},
     "output_type": "display_data"
    },
    {
     "data": {
      "text/html": [
       "<div>\n",
       "<style scoped>\n",
       "    .dataframe tbody tr th:only-of-type {\n",
       "        vertical-align: middle;\n",
       "    }\n",
       "\n",
       "    .dataframe tbody tr th {\n",
       "        vertical-align: top;\n",
       "    }\n",
       "\n",
       "    .dataframe thead th {\n",
       "        text-align: right;\n",
       "    }\n",
       "</style>\n",
       "<table border=\"1\" class=\"dataframe\">\n",
       "  <thead>\n",
       "    <tr style=\"text-align: right;\">\n",
       "      <th></th>\n",
       "      <th>val3</th>\n",
       "      <th>pb</th>\n",
       "    </tr>\n",
       "  </thead>\n",
       "  <tbody>\n",
       "    <tr>\n",
       "      <td>0</td>\n",
       "      <td>rougher.input.feed_pb</td>\n",
       "      <td>3.188803</td>\n",
       "    </tr>\n",
       "    <tr>\n",
       "      <td>1</td>\n",
       "      <td>rougher.output.concentrate_pb</td>\n",
       "      <td>6.861249</td>\n",
       "    </tr>\n",
       "    <tr>\n",
       "      <td>2</td>\n",
       "      <td>primary_cleaner.output.concentrate_pb</td>\n",
       "      <td>8.493673</td>\n",
       "    </tr>\n",
       "    <tr>\n",
       "      <td>3</td>\n",
       "      <td>final.output.concentrate_pb</td>\n",
       "      <td>9.080638</td>\n",
       "    </tr>\n",
       "  </tbody>\n",
       "</table>\n",
       "</div>"
      ],
      "text/plain": [
       "                                    val3        pb\n",
       "0                  rougher.input.feed_pb  3.188803\n",
       "1          rougher.output.concentrate_pb  6.861249\n",
       "2  primary_cleaner.output.concentrate_pb  8.493673\n",
       "3            final.output.concentrate_pb  9.080638"
      ]
     },
     "metadata": {},
     "output_type": "display_data"
    }
   ],
   "source": [
    "au = pd.DataFrame(au_concentrate.mean()).reset_index()\n",
    "au.columns = ['val1', 'au']\n",
    "\n",
    "ag = pd.DataFrame(ag_concentrate.mean()).reset_index()\n",
    "ag.columns = ['val2', 'ag']\n",
    "\n",
    "pb = pd.DataFrame(pb_concentrate.mean()).reset_index()\n",
    "pb.columns = ['val3', 'pb']\n",
    "\n",
    "\n",
    "display(au)\n",
    "display(ag)\n",
    "display(pb)"
   ]
  },
  {
   "cell_type": "code",
   "execution_count": 18,
   "metadata": {},
   "outputs": [
    {
     "data": {
      "text/html": [
       "<div>\n",
       "<style scoped>\n",
       "    .dataframe tbody tr th:only-of-type {\n",
       "        vertical-align: middle;\n",
       "    }\n",
       "\n",
       "    .dataframe tbody tr th {\n",
       "        vertical-align: top;\n",
       "    }\n",
       "\n",
       "    .dataframe thead th {\n",
       "        text-align: right;\n",
       "    }\n",
       "</style>\n",
       "<table border=\"1\" class=\"dataframe\">\n",
       "  <thead>\n",
       "    <tr style=\"text-align: right;\">\n",
       "      <th></th>\n",
       "      <th>au</th>\n",
       "      <th>ag</th>\n",
       "      <th>pb</th>\n",
       "    </tr>\n",
       "  </thead>\n",
       "  <tbody>\n",
       "    <tr>\n",
       "      <td>rougher.input.feed</td>\n",
       "      <td>7.144279</td>\n",
       "      <td>7.803825</td>\n",
       "      <td>3.188803</td>\n",
       "    </tr>\n",
       "    <tr>\n",
       "      <td>rougher.output.concentrate</td>\n",
       "      <td>17.337662</td>\n",
       "      <td>10.541930</td>\n",
       "      <td>6.861249</td>\n",
       "    </tr>\n",
       "    <tr>\n",
       "      <td>primary_cleaner.output.concentrate</td>\n",
       "      <td>29.041786</td>\n",
       "      <td>7.390585</td>\n",
       "      <td>8.493673</td>\n",
       "    </tr>\n",
       "    <tr>\n",
       "      <td>final.output.concentrate</td>\n",
       "      <td>39.321631</td>\n",
       "      <td>4.699066</td>\n",
       "      <td>9.080638</td>\n",
       "    </tr>\n",
       "  </tbody>\n",
       "</table>\n",
       "</div>"
      ],
      "text/plain": [
       "                                           au         ag        pb\n",
       "rougher.input.feed                   7.144279   7.803825  3.188803\n",
       "rougher.output.concentrate          17.337662  10.541930  6.861249\n",
       "primary_cleaner.output.concentrate  29.041786   7.390585  8.493673\n",
       "final.output.concentrate            39.321631   4.699066  9.080638"
      ]
     },
     "execution_count": 18,
     "metadata": {},
     "output_type": "execute_result"
    }
   ],
   "source": [
    "concentrates_total = pd.concat([au, ag, pb], axis=1)\n",
    "concentrates_total = concentrates_total.drop(['val1', 'val2', 'val3'], axis=1)\n",
    "\n",
    "new_index = ['rougher.input.feed', 'rougher.output.concentrate',\n",
    "             'primary_cleaner.output.concentrate', 'final.output.concentrate']\n",
    "concentrates_total = concentrates_total.set_index(pd.Index(new_index))\n",
    "concentrates_total\n"
   ]
  },
  {
   "cell_type": "code",
   "execution_count": 19,
   "metadata": {},
   "outputs": [
    {
     "data": {
      "text/plain": [
       "<matplotlib.legend.Legend at 0x7f81ddeed710>"
      ]
     },
     "execution_count": 19,
     "metadata": {},
     "output_type": "execute_result"
    },
    {
     "data": {
      "image/png": "[encoded data removed]",
      "text/plain": [
       "<Figure size 720x432 with 1 Axes>"
      ]
     },
     "metadata": {
      "needs_background": "light"
     },
     "output_type": "display_data"
    }
   ],
   "source": [
    "plt.figure(figsize=(10,6))\n",
    "plt.plot(concentrates_total)\n",
    "plt.grid(b=True)\n",
    "plt.title('Change in Metal Concentrates in Purification Stages')\n",
    "plt.legend(concentrates_total.columns)"
   ]
  },
  {
   "cell_type": "markdown",
   "metadata": {},
   "source": [
    "- **As the process proceeds, we see changes in the concentrations of each metal:**\n",
    "    - The concentration of gold (Au) increases during purification, this is expected because we are extracting gold from ore\n",
    "    - The concentration of silver (Ag) decreases during purification\n",
    "    - The concentration of lead (Pb) increases in each stage, but by very little each time"
   ]
  },
  {
   "cell_type": "markdown",
   "metadata": {},
   "source": [
    "#### Comparing variation the feed particle size distributions in the training test data:"
   ]
  },
  {
   "cell_type": "code",
   "execution_count": 20,
   "metadata": {},
   "outputs": [
    {
     "data": {
      "text/html": [
       "<div>\n",
       "<style scoped>\n",
       "    .dataframe tbody tr th:only-of-type {\n",
       "        vertical-align: middle;\n",
       "    }\n",
       "\n",
       "    .dataframe tbody tr th {\n",
       "        vertical-align: top;\n",
       "    }\n",
       "\n",
       "    .dataframe thead th {\n",
       "        text-align: right;\n",
       "    }\n",
       "</style>\n",
       "<table border=\"1\" class=\"dataframe\">\n",
       "  <thead>\n",
       "    <tr style=\"text-align: right;\">\n",
       "      <th></th>\n",
       "      <th>train</th>\n",
       "      <th>test</th>\n",
       "    </tr>\n",
       "  </thead>\n",
       "  <tbody>\n",
       "    <tr>\n",
       "      <td>0</td>\n",
       "      <td>55.486599</td>\n",
       "      <td>62.710452</td>\n",
       "    </tr>\n",
       "    <tr>\n",
       "      <td>1</td>\n",
       "      <td>57.278666</td>\n",
       "      <td>61.961163</td>\n",
       "    </tr>\n",
       "    <tr>\n",
       "      <td>2</td>\n",
       "      <td>57.510649</td>\n",
       "      <td>66.903807</td>\n",
       "    </tr>\n",
       "    <tr>\n",
       "      <td>3</td>\n",
       "      <td>57.792734</td>\n",
       "      <td>59.865919</td>\n",
       "    </tr>\n",
       "    <tr>\n",
       "      <td>4</td>\n",
       "      <td>56.047189</td>\n",
       "      <td>63.315324</td>\n",
       "    </tr>\n",
       "  </tbody>\n",
       "</table>\n",
       "</div>"
      ],
      "text/plain": [
       "       train       test\n",
       "0  55.486599  62.710452\n",
       "1  57.278666  61.961163\n",
       "2  57.510649  66.903807\n",
       "3  57.792734  59.865919\n",
       "4  56.047189  63.315324"
      ]
     },
     "execution_count": 20,
     "metadata": {},
     "output_type": "execute_result"
    }
   ],
   "source": [
    "train_feed = train['rougher.input.feed_size']\n",
    "test_feed = test['rougher.input.feed_size']\n",
    "full_feed = pd.concat([train_feed, test_feed], axis=1)\n",
    "full_feed.columns = ['train', 'test']\n",
    "full_feed.head()"
   ]
  },
  {
   "cell_type": "code",
   "execution_count": 21,
   "metadata": {},
   "outputs": [
    {
     "data": {
      "text/plain": [
       "<matplotlib.legend.Legend at 0x7f81ddeda250>"
      ]
     },
     "execution_count": 21,
     "metadata": {},
     "output_type": "execute_result"
    },
    {
     "data": {
      "image/png": "[encoded data removed]",
      "text/plain": [
       "<Figure size 720x432 with 1 Axes>"
      ]
     },
     "metadata": {
      "needs_background": "light"
     },
     "output_type": "display_data"
    }
   ],
   "source": [
    "plt.figure(figsize=(10,6))\n",
    "full_feed['train'].hist(bins=20)\n",
    "full_feed['test'].hist(bins=20)\n",
    "plt.title('Distribution of rougher.input.feed_size for train and test data')\n",
    "plt.legend(full_feed.columns)"
   ]
  },
  {
   "cell_type": "code",
   "execution_count": 22,
   "metadata": {},
   "outputs": [
    {
     "data": {
      "text/plain": [
       "count    16860.000000\n",
       "mean        60.188595\n",
       "std         30.522242\n",
       "min          9.659576\n",
       "25%         47.548897\n",
       "50%         54.066003\n",
       "75%         65.397249\n",
       "max        484.967466\n",
       "Name: train, dtype: float64"
      ]
     },
     "execution_count": 22,
     "metadata": {},
     "output_type": "execute_result"
    }
   ],
   "source": [
    "full_feed['train'].describe()"
   ]
  },
  {
   "cell_type": "code",
   "execution_count": 23,
   "metadata": {
    "scrolled": false
   },
   "outputs": [
    {
     "data": {
      "text/plain": [
       "count    5856.000000\n",
       "mean       55.898866\n",
       "std        22.707969\n",
       "min         0.046369\n",
       "25%        43.852884\n",
       "50%        49.964796\n",
       "75%        61.628003\n",
       "max       477.445473\n",
       "Name: test, dtype: float64"
      ]
     },
     "execution_count": 23,
     "metadata": {},
     "output_type": "execute_result"
    }
   ],
   "source": [
    "full_feed['test'].describe()"
   ]
  },
  {
   "cell_type": "markdown",
   "metadata": {},
   "source": [
    "- **Train and Test data feed_size variation:**\n",
    "    - Train Data:\n",
    "        - Range ~475\n",
    "        - Relatively normal distribution with a slight positive skew caused buy a few high outliers\n",
    "        - Median ~54, Mean ~60\n",
    "    - Test Data:\n",
    "        - Range ~477\n",
    "        - Relatively normal distribution with a slight positive skew caused buy a few high outliers\n",
    "        - Median ~50, Mean ~56\n",
    "    - Overall:\n",
    "        - Very similar distributions despite training data having about 3x as many observations"
   ]
  },
  {
   "cell_type": "markdown",
   "metadata": {},
   "source": [
    "#### Searching for abnormal values in the distribution of each substance concentration:"
   ]
  },
  {
   "cell_type": "markdown",
   "metadata": {},
   "source": [
    "Consider the total concentrations of all substances at different stages: raw feed, rougher concentrate, and final concentrate. Do you notice any abnormal values in the total distribution? If you do, is it worth removing such values from both samples? Describe the findings and eliminate anomalies."
   ]
  },
  {
   "cell_type": "code",
   "execution_count": 24,
   "metadata": {},
   "outputs": [
    {
     "data": {
      "image/png": "[encoded data removed]",
      "text/plain": [
       "<Figure size 432x288 with 1 Axes>"
      ]
     },
     "metadata": {
      "needs_background": "light"
     },
     "output_type": "display_data"
    }
   ],
   "source": [
    "# Au Concentrate\n",
    "\n",
    "au_leg = ['rougher.output.concentrate_au', 'primary_cleaner.output.concentrate_au',\n",
    "         'final.output.concentrate_au']\n",
    "\n",
    "au_concentrate['rougher.output.concentrate_au'].hist()\n",
    "au_concentrate['primary_cleaner.output.concentrate_au'].hist()\n",
    "au_concentrate['final.output.concentrate_au'].hist()\n",
    "plt.legend(au_leg)\n",
    "plt.title('Distribution of Au Concentration by Stage')\n",
    "plt.show()"
   ]
  },
  {
   "cell_type": "code",
   "execution_count": 25,
   "metadata": {},
   "outputs": [
    {
     "name": "stdout",
     "output_type": "stream",
     "text": [
      "Amount of Au Concentrate under 10: 1806 | Percent of Total under 10: 0.10711743772241993\n",
      "\n",
      "Amount of Au Concentrate equal to zero: \n",
      " Rougher Stage: 1547 | Primary_cleaner Stage: 1284 | Final Stage: 1320\n"
     ]
    }
   ],
   "source": [
    "au_below_ten = au_concentrate[au_concentrate['final.output.concentrate_au'] < 10]\n",
    "\n",
    "au_zero1 = au_concentrate[au_concentrate['rougher.output.concentrate_au'] == 0]\n",
    "au_zero2 = au_concentrate[au_concentrate['primary_cleaner.output.concentrate_au'] == 0]\n",
    "au_zero3 = au_concentrate[au_concentrate['final.output.concentrate_au'] == 0]\n",
    "\n",
    "print('Amount of Au Concentrate under 10:', len(au_below_ten), '| Percent of Total under 10:',\n",
    "     (len(au_below_ten) / len(au_concentrate)))\n",
    "print()\n",
    "print('Amount of Au Concentrate equal to zero: \\n Rougher Stage:', len(au_zero1),\n",
    "      '| Primary_cleaner Stage:', len(au_zero2), '| Final Stage:', len(au_zero3))\n"
   ]
  },
  {
   "cell_type": "code",
   "execution_count": 26,
   "metadata": {},
   "outputs": [
    {
     "data": {
      "image/png": "[encoded data removed]",
      "text/plain": [
       "<Figure size 432x288 with 1 Axes>"
      ]
     },
     "metadata": {
      "needs_background": "light"
     },
     "output_type": "display_data"
    }
   ],
   "source": [
    "# Ag Concentrate\n",
    "\n",
    "ag_leg = ['rougher.output.concentrate_ag', 'primary_cleaner.output.concentrate_ag',\n",
    "         'final.output.concentrate_ag']\n",
    "\n",
    "ag_concentrate['rougher.output.concentrate_ag'].hist()\n",
    "ag_concentrate['primary_cleaner.output.concentrate_ag'].hist()\n",
    "ag_concentrate['final.output.concentrate_ag'].hist()\n",
    "plt.legend(ag_leg, fontsize='x-small')\n",
    "plt.title('Distribution of Ag Concentration by Stage')\n",
    "plt.show()"
   ]
  },
  {
   "cell_type": "code",
   "execution_count": 27,
   "metadata": {},
   "outputs": [
    {
     "name": "stdout",
     "output_type": "stream",
     "text": [
      "Amount of Ag Concentrate under 10: 16685 | Percent of Total under 10: 0.9896204033214709\n",
      "\n",
      "Amount of Ag Concentrate equal to zero: \n",
      " Rougher Stage: 1547 | Primary_cleaner Stage: 1284 | Final Stage: 1320\n"
     ]
    }
   ],
   "source": [
    "ag_below_ten = ag_concentrate[ag_concentrate['final.output.concentrate_ag'] < 10]\n",
    "\n",
    "\n",
    "\n",
    "ag_zero1 = ag_concentrate[ag_concentrate['rougher.output.concentrate_ag'] == 0]\n",
    "ag_zero2 = ag_concentrate[ag_concentrate['primary_cleaner.output.concentrate_ag'] == 0]\n",
    "ag_zero3 = ag_concentrate[ag_concentrate['final.output.concentrate_ag'] == 0]\n",
    "\n",
    "print('Amount of Ag Concentrate under 10:', len(ag_below_ten), '| Percent of Total under 10:',\n",
    "     (len(ag_below_ten) / len(ag_concentrate)))\n",
    "print()\n",
    "print('Amount of Ag Concentrate equal to zero: \\n Rougher Stage:', len(ag_zero1),\n",
    "      '| Primary_cleaner Stage:', len(ag_zero2), '| Final Stage:', len(ag_zero3))"
   ]
  },
  {
   "cell_type": "code",
   "execution_count": 28,
   "metadata": {},
   "outputs": [
    {
     "data": {
      "image/png": "[encoded data removed]",
      "text/plain": [
       "<Figure size 432x288 with 1 Axes>"
      ]
     },
     "metadata": {
      "needs_background": "light"
     },
     "output_type": "display_data"
    }
   ],
   "source": [
    "# Pb Concentrate\n",
    "\n",
    "pb_leg = ['rougher.output.concentrate_pb', 'primary_cleaner.output.concentrate_pb',\n",
    "         'final.output.concentrate_pb']\n",
    "\n",
    "pb_concentrate['rougher.output.concentrate_pb'].hist()\n",
    "pb_concentrate['primary_cleaner.output.concentrate_pb'].hist()\n",
    "pb_concentrate['final.output.concentrate_pb'].hist()\n",
    "plt.legend(pb_leg, fontsize='x-small', loc=1)\n",
    "plt.title('Distribution of Pb Concentration by Stage')\n",
    "plt.show()"
   ]
  },
  {
   "cell_type": "code",
   "execution_count": 29,
   "metadata": {},
   "outputs": [
    {
     "name": "stdout",
     "output_type": "stream",
     "text": [
      "Amount of Pb Concentrate under 10: 8202 | Percent of Total under 10: 0.4864768683274021\n",
      "\n",
      "Amount of Pb Concentrate equal to zero: \n",
      " Rougher Stage: 1547 | Primary_cleaner Stage: 1407 | Final Stage: 1320\n"
     ]
    }
   ],
   "source": [
    "pb_below_ten = pb_concentrate[pb_concentrate['final.output.concentrate_pb'] < 10]\n",
    "\n",
    "pb_zero1 = pb_concentrate[pb_concentrate['rougher.output.concentrate_pb'] == 0]\n",
    "pb_zero2 = pb_concentrate[pb_concentrate['primary_cleaner.output.concentrate_pb'] == 0]\n",
    "pb_zero3 = pb_concentrate[pb_concentrate['final.output.concentrate_pb'] == 0]\n",
    "\n",
    "print('Amount of Pb Concentrate under 10:', len(pb_below_ten), '| Percent of Total under 10:',\n",
    "     (len(pb_below_ten) / len(pb_concentrate)))\n",
    "print()\n",
    "print('Amount of Pb Concentrate equal to zero: \\n Rougher Stage:', len(pb_zero1),\n",
    "      '| Primary_cleaner Stage:', len(pb_zero2), '| Final Stage:', len(pb_zero3))"
   ]
  },
  {
   "cell_type": "markdown",
   "metadata": {},
   "source": [
    "- **Observations from metal distributions:**\n",
    "    - I would expect there to be a portion of each metal where the concentration is minimal throughout which we see as each metal has less than 10 percent of observations with a concentration value under 10\n",
    "    - On the other hand we have the same number of observations in each metal where concentration is equal to 0\n",
    "        - This signals that the samples taken that were purified were bad and haad no samples of any ore or metals that we are tracking.\n",
    "        - I would rather not remove this data as it is a part of the mining process where some samples do not contain any valuable resources"
   ]
  },
  {
   "cell_type": "markdown",
   "metadata": {},
   "source": [
    "## Build the Model:\n",
    "---"
   ]
  },
  {
   "cell_type": "markdown",
   "metadata": {},
   "source": [
    "#### sMAPE Function:"
   ]
  },
  {
   "cell_type": "code",
   "execution_count": 30,
   "metadata": {},
   "outputs": [],
   "source": [
    "# yi = actual\n",
    "# yhat = predicted\n",
    "\n",
    "def smape(yi, yhat):\n",
    "    result = ((abs(yi - yhat) / ((abs(yi) + abs(yhat))/2)) * 100).mean()\n",
    "    return result"
   ]
  },
  {
   "cell_type": "code",
   "execution_count": 31,
   "metadata": {},
   "outputs": [],
   "source": [
    "# final sMAPE function\n",
    "\n",
    "def final_smape(yi_rough, yhat_rough, yi_final, yhat_final):\n",
    "    result = (0.25 * smape(yi_rough, yhat_rough)) + (0.75 * smape(yi_final, yhat_final))\n",
    "    return result"
   ]
  },
  {
   "cell_type": "markdown",
   "metadata": {},
   "source": [
    "**We need to predict two values:**\n",
    "- rougher concentrate recovery `rougher.output.recovery`\n",
    "- final concentrate recovery `final.output.recovery`"
   ]
  },
  {
   "cell_type": "code",
   "execution_count": 32,
   "metadata": {},
   "outputs": [
    {
     "name": "stdout",
     "output_type": "stream",
     "text": [
      "(16860, 52)\n",
      "(16860,)\n",
      "(16860,)\n"
     ]
    }
   ],
   "source": [
    "# split training data into train and validate so I can test models and parameters\n",
    "\n",
    "features = mtrain.drop(['rougher.output.recovery', 'final.output.recovery', 'date'], axis=1)\n",
    "rough_target = mtrain['rougher.output.recovery']\n",
    "final_target = mtrain['final.output.recovery']\n",
    "\n",
    "xt_rough, xv_rough, yt_rough, yv_rough = train_test_split(features, rough_target, test_size=0.25, random_state=123)\n",
    "xt_final, xv_final, yt_final, yv_final = train_test_split(features, final_target, test_size=0.25, random_state=123)\n",
    "\n",
    "test_ml = test.drop('date', axis=1)\n",
    "\n",
    "print(features.shape)\n",
    "print(rough_target.shape)\n",
    "print(final_target.shape)"
   ]
  },
  {
   "cell_type": "code",
   "execution_count": 33,
   "metadata": {},
   "outputs": [
    {
     "name": "stdout",
     "output_type": "stream",
     "text": [
      "(5856, 52)\n",
      "(5856,)\n",
      "(5856,)\n"
     ]
    }
   ],
   "source": [
    "test_target = full[['date', 'rougher.output.recovery', 'final.output.recovery']][full['date'].isin(test['date'])]\n",
    "rough_model_target = test_target['rougher.output.recovery']\n",
    "final_model_target = test_target['final.output.recovery']\n",
    "\n",
    "print(test_ml.shape)\n",
    "print(rough_model_target.shape)\n",
    "print(final_model_target.shape)"
   ]
  },
  {
   "cell_type": "markdown",
   "metadata": {},
   "source": [
    "#### Model Training using Cross-Validation:"
   ]
  },
  {
   "cell_type": "code",
   "execution_count": 34,
   "metadata": {
    "scrolled": true
   },
   "outputs": [
    {
     "name": "stdout",
     "output_type": "stream",
     "text": [
      "Depth: 3 | rougher.output.recovery Score: 17.062616649776558 | final.output.recovery Score: 14.072490848752349\n",
      "Depth: 4 | rougher.output.recovery Score: 17.430983547063466 | final.output.recovery Score: 14.131448288603195\n",
      "Depth: 5 | rougher.output.recovery Score: 17.238450069801928 | final.output.recovery Score: 14.000616771006609\n",
      "Depth: 6 | rougher.output.recovery Score: 17.075860571501607 | final.output.recovery Score: 14.07046644698421\n",
      "CPU times: user 1min 36s, sys: 4.96 ms, total: 1min 36s\n",
      "Wall time: 1min 36s\n"
     ]
    }
   ],
   "source": [
    "%%time\n",
    "\n",
    "# Reomving the Future Warnings to keep code cleaner\n",
    "import warnings\n",
    "warnings.filterwarnings(\"ignore\", category=FutureWarning)\n",
    "\n",
    "# creating Scorer to use in Cross Val\n",
    "smape_scorer = make_scorer(smape)\n",
    "\n",
    "# Random Forest\n",
    "\n",
    "for i in range(3, 7):\n",
    "    rfmodel = RandomForestRegressor(random_state=123, max_depth=i)\n",
    "    rf_rough = cross_val_score(rfmodel, features, rough_target, cv=5, scoring=smape_scorer)\n",
    "    rf_final = cross_val_score(rfmodel, features, final_target, cv=5, scoring=smape_scorer)\n",
    "    print('Depth:', i, '| rougher.output.recovery Score:', rf_rough.mean(), '| final.output.recovery Score:', rf_final.mean())"
   ]
  },
  {
   "cell_type": "code",
   "execution_count": 35,
   "metadata": {
    "scrolled": true
   },
   "outputs": [
    {
     "name": "stdout",
     "output_type": "stream",
     "text": [
      "rougher.output.recovery sMAPE: 12.639017547295303 | final.output.recovery sMAPE: 11.460960383834987\n",
      "\n",
      "Overall Final sMAPE: 11.755474674700066\n"
     ]
    }
   ],
   "source": [
    "# Best Random Forest sMAPE\n",
    "\n",
    "# Predicting rougher.output.recovery (max_depth=6)\n",
    "rf_rough = RandomForestRegressor(random_state=123, max_depth=6)\n",
    "rf_rough.fit(xt_rough, yt_rough)\n",
    "rfr_pred = rf_rough.predict(xv_rough)\n",
    "rfr_score = smape(yv_rough, rfr_pred)\n",
    "\n",
    "# Predicting final.output.recovery (max_depth=5)\n",
    "rf_final = RandomForestRegressor(random_state=123, max_depth=5)\n",
    "rf_final.fit(xt_final, yt_final)\n",
    "rff_pred = rf_final.predict(xv_final)\n",
    "rff_score = smape(yv_final, rff_pred)\n",
    "\n",
    "print('rougher.output.recovery sMAPE:', rfr_score, '| final.output.recovery sMAPE:', rff_score)\n",
    "print()\n",
    "print('Overall Final sMAPE:', final_smape(yv_rough, rfr_pred, yv_final, rff_pred))"
   ]
  },
  {
   "cell_type": "code",
   "execution_count": 36,
   "metadata": {
    "scrolled": true
   },
   "outputs": [
    {
     "name": "stdout",
     "output_type": "stream",
     "text": [
      "Depth: 3 | rougher.output.recovery Score: 17.227719011147418 | final.output.recovery Score: 14.681654739785571\n",
      "Depth: 4 | rougher.output.recovery Score: 17.224204371842088 | final.output.recovery Score: 14.720631328243195\n",
      "Depth: 5 | rougher.output.recovery Score: 18.042139294779325 | final.output.recovery Score: 14.901868515127267\n",
      "CPU times: user 11.3 s, sys: 15.9 ms, total: 11.3 s\n",
      "Wall time: 11.4 s\n"
     ]
    }
   ],
   "source": [
    "%%time\n",
    "# Decision Tree\n",
    "\n",
    "for i in range (3, 6):\n",
    "    dtmodel = DecisionTreeRegressor(random_state=123, max_depth=i)\n",
    "    dt_rough = cross_val_score(dtmodel, features, rough_target, cv=5, scoring=smape_scorer)\n",
    "    dt_final = cross_val_score(dtmodel, features, final_target, cv=5, scoring=smape_scorer)\n",
    "    print('Depth:', i, '| rougher.output.recovery Score:', dt_rough.mean(), '| final.output.recovery Score:', dt_final.mean())"
   ]
  },
  {
   "cell_type": "code",
   "execution_count": 37,
   "metadata": {
    "scrolled": true
   },
   "outputs": [
    {
     "name": "stdout",
     "output_type": "stream",
     "text": [
      "rougher.output.recovery sMAPE: 15.672597167175574 | final.output.recovery sMAPE: 12.815255170322281\n",
      "\n",
      "Overall Final sMAPE: 13.529590669535605\n"
     ]
    }
   ],
   "source": [
    "# Best Decision Tree sMAPE\n",
    "\n",
    "# Predicting rougher.output.recovery (max_depth=4)\n",
    "dt_rough = DecisionTreeRegressor(random_state=123, max_depth=4)\n",
    "dt_rough.fit(xt_rough, yt_rough)\n",
    "dtr_pred = dt_rough.predict(xv_rough)\n",
    "dtr_score = smape(yv_rough, dtr_pred)\n",
    "\n",
    "# Predicting final.output.recovery (max_depth=3)\n",
    "dt_final = DecisionTreeRegressor(random_state=123, max_depth=3)\n",
    "dt_final.fit(xt_final, yt_final)\n",
    "dtf_pred = dt_final.predict(xv_final)\n",
    "dtf_score = smape(yv_final, dtf_pred)\n",
    "\n",
    "print('rougher.output.recovery sMAPE:', dtr_score, '| final.output.recovery sMAPE:', dtf_score)\n",
    "print()\n",
    "print('Overall Final sMAPE:', final_smape(yv_rough, dtr_pred, yv_final, dtf_pred))"
   ]
  },
  {
   "cell_type": "markdown",
   "metadata": {},
   "source": [
    "**Model Testing Follow-up:**\n",
    "- I iterated through the max_depth parameter for both the random forest and decision tree model to find the optimal parameter value\n",
    "- Then using the best for each I called the predict function and calculated their sMAPE\n",
    "- The **Random Forest** model with a max_depth of 6 for the rougher.output.recovery and a max_depth of 5 for the final.output.recovery had the lowest sMAPE values\n",
    "- When calculating the final sMAPE, I found that again the Random Forest had the better metric"
   ]
  },
  {
   "cell_type": "markdown",
   "metadata": {},
   "source": [
    "#### Finalized Model and Testing:"
   ]
  },
  {
   "cell_type": "code",
   "execution_count": 38,
   "metadata": {
    "scrolled": true
   },
   "outputs": [
    {
     "name": "stdout",
     "output_type": "stream",
     "text": [
      "rougher.output.recovery sMAPE: 9.839325728297874\n",
      "---\n",
      "final.output.recovery sMAPE: 10.091505685807162\n",
      "---\n",
      "Final sMAPE: 10.028460696429839\n"
     ]
    }
   ],
   "source": [
    "# Final Model Test Predictions\n",
    "\n",
    "final_rough_pred = rf_rough.predict(test_ml)\n",
    "print('rougher.output.recovery sMAPE:', smape(rough_model_target, final_rough_pred))\n",
    "print('---')\n",
    "\n",
    "final_final_pred = rf_final.predict(test_ml)\n",
    "print('final.output.recovery sMAPE:', smape(final_model_target, final_final_pred))\n",
    "print('---')\n",
    "print('Final sMAPE:', final_smape(rough_model_target, final_rough_pred, final_model_target, final_final_pred))"
   ]
  },
  {
   "cell_type": "markdown",
   "metadata": {},
   "source": [
    "## Conclusion:\n",
    "---"
   ]
  },
  {
   "cell_type": "markdown",
   "metadata": {},
   "source": [
    "- **Final Testing:**\n",
    "    - Model Used:\n",
    "        - Random Forest with max_depths of 6 for the rougher and 5 for the final\n",
    "        - Random Forest had better validation than the Decision Tree on the Validation Set\n",
    "    - Final Test Results:\n",
    "        - `rougher.output.recovery` sMAPE: 9.8\n",
    "        - `final.output.recovery` sMAPE: 10.1\n",
    "        - Final sMAPE: 10.0"
   ]
  }
 ],
 "metadata": {
  "kernelspec": {
   "display_name": "Python 3",
   "language": "python",
   "name": "python3"
  },
  "language_info": {
   "codemirror_mode": {
    "name": "ipython",
    "version": 3
   },
   "file_extension": ".py",
   "mimetype": "text/x-python",
   "name": "python",
   "nbconvert_exporter": "python",
   "pygments_lexer": "ipython3",
   "version": "3.7.6"
  }
 },
 "nbformat": 4,
 "nbformat_minor": 4
}
